{
 "cells": [
  {
   "cell_type": "code",
   "execution_count": 10,
   "metadata": {},
   "outputs": [
    {
     "name": "stdout",
     "output_type": "stream",
     "text": [
      "Enter a positive number10\n",
      "0,1,1,2,3,5,8,13,21,34\n"
     ]
    }
   ],
   "source": [
    "#Fibbanoic Series\n",
    "a=int(input(\"Enter a positive number\"))\n",
    "x=0\n",
    "y=1\n",
    "count=0\n",
    "if(a>0):\n",
    "    if(a==1):\n",
    "        print(a)\n",
    "    else:\n",
    "        while count<a:\n",
    "            if(count+1==a):\n",
    "                print(x)\n",
    "            else:\n",
    "                print(x,end=\",\")\n",
    "            z=x+y\n",
    "            x=y\n",
    "            y=z\n",
    "            count+=1"
   ]
  },
  {
   "cell_type": "code",
   "execution_count": 4,
   "metadata": {},
   "outputs": [
    {
     "name": "stdout",
     "output_type": "stream",
     "text": [
      "Enter a number:8\n",
      "Factorial of  8  is  40320\n"
     ]
    }
   ],
   "source": [
    "#Factorial number\n",
    "a=int(input(\"Enter a number:\"))\n",
    "i=1\n",
    "fact=1\n",
    "while i<=a:\n",
    "    fact=fact*i\n",
    "    i+=1\n",
    "print(\"Factorial of \",a,\" is \",fact)"
   ]
  },
  {
   "cell_type": "code",
   "execution_count": 12,
   "metadata": {},
   "outputs": [
    {
     "data": {
      "text/plain": [
       "[3, 2, 1]"
      ]
     },
     "execution_count": 12,
     "metadata": {},
     "output_type": "execute_result"
    }
   ],
   "source": [
    "#reverse array\n",
    "a=[1,2,3]\n",
    "b=a[::-1]\n",
    "list(b)"
   ]
  },
  {
   "cell_type": "code",
   "execution_count": 2,
   "metadata": {},
   "outputs": [
    {
     "name": "stdout",
     "output_type": "stream",
     "text": [
      "2002,2009,2016,2023,2037,2044,2051,2058,2072,2079,2086,2093,2107,2114,2121,2128,2142,2149,2156,2163,2177,2184,2191,2198,2212,2219,2226,2233,2247,2254,2261,2268,2282,2289,2296,2303,2317,2324,2331,2338,2352,2359,2366,2373,2387,2394,2401,2408,2422,2429,2436,2443,2457,2464,2471,2478,2492,2499,2506,2513,2527,2534,2541,2548,2562,2569,2576,2583,2597,2604,2611,2618,2632,2639,2646,2653,2667,2674,2681,2688,2702,2709,2716,2723,2737,2744,2751,2758,2772,2779,2786,2793,2807,2814,2821,2828,2842,2849,2856,2863,2877,2884,2891,2898,2912,2919,2926,2933,2947,2954,2961,2968,2982,2989,2996,3003,3017,3024,3031,3038,3052,3059,3066,3073,3087,3094,3101,3108,3122,3129,3136,3143,3157,3164,3171,3178,3192,3199,"
     ]
    }
   ],
   "source": [
    "#Write a program which will find all such numbers which are divisible by 7 but are not a multiple of 5, between 2000 and 3200 (both included).\n",
    "for i in range(2000,3201):\n",
    "    if (i%7==0) & (i%5!=0):\n",
    "        print(i,end=\",\")"
   ]
  },
  {
   "cell_type": "code",
   "execution_count": 1,
   "metadata": {},
   "outputs": [
    {
     "name": "stdout",
     "output_type": "stream",
     "text": [
      "Press 1 to add,2 to subtract,3 to multiply and 4 to divide2\n",
      "Enter first value5\n",
      "Enter second value2\n",
      "Ans is  3\n"
     ]
    }
   ],
   "source": [
    "#Simple Calculator\n",
    "def add(a,b):\n",
    "    return a+b\n",
    "def sub(a,b):\n",
    "    return a-b\n",
    "def mul(a,b):\n",
    "    return a*b\n",
    "def div(a,b):\n",
    "    if(b!=0):\n",
    "        return a/b\n",
    "    else:\n",
    "        return 0\n",
    "Operation = input(\"Press 1 to add,2 to subtract,3 to multiply and 4 to divide\")\n",
    "a=int(input(\"Enter first value\"))\n",
    "b=int(input(\"Enter second value\"))\n",
    "if(Operation == '1'):\n",
    "    print(\"Ans is \",add(a,b))\n",
    "elif(Operation == '2'):\n",
    "    print(\"Ans is \",sub(a,b))\n",
    "elif(Operation == '3'):\n",
    "    print(\"Ans is \",mul(a,b))\n",
    "elif(Operation == '4'):\n",
    "    print(\"Ans is \",div(a,b))"
   ]
  },
  {
   "cell_type": "code",
   "execution_count": 8,
   "metadata": {},
   "outputs": [
    {
     "name": "stdout",
     "output_type": "stream",
     "text": [
      "Enter a number9\n",
      "Factorial of  9  is  362880\n"
     ]
    }
   ],
   "source": [
    "#Factorial number (alternate)\n",
    "def fact(x):\n",
    "    if(x==0):\n",
    "        return 1\n",
    "    else:\n",
    "        return x*fact(x-1)\n",
    "x=int(input(\"Enter a number\"))\n",
    "print(\"Factorial of \",x,\" is \",fact(x))"
   ]
  },
  {
   "cell_type": "code",
   "execution_count": 3,
   "metadata": {},
   "outputs": [
    {
     "name": "stdout",
     "output_type": "stream",
     "text": [
      "Enter number9\n",
      "Square root of  9.0  is  3.0\n"
     ]
    }
   ],
   "source": [
    "#Find square root\n",
    "x=float(input(\"Enter number\"))\n",
    "a=x**0.5\n",
    "print(\"Square root of \",x,\" is \",a)"
   ]
  },
  {
   "cell_type": "code",
   "execution_count": 7,
   "metadata": {},
   "outputs": [
    {
     "name": "stdout",
     "output_type": "stream",
     "text": [
      "Enter number8\n",
      "{1: 1, 2: 4, 3: 9, 4: 16, 5: 25, 6: 36, 7: 49, 8: 64}\n"
     ]
    }
   ],
   "source": [
    "#With a given integral number n, write a program to generate a dictionary that contains (i, i*i) such that is an integral number between 1 and n (both included). and then the program should print the dictionary.\n",
    "#Suppose the following input is supplied to the program:\n",
    "\n",
    "x=int(input(\"Enter number\"))\n",
    "a=dict()\n",
    "for i in range(1,x+1):\n",
    "    a[i]=i*i\n",
    "print(a)"
   ]
  },
  {
   "cell_type": "code",
   "execution_count": 1,
   "metadata": {},
   "outputs": [
    {
     "name": "stdout",
     "output_type": "stream",
     "text": [
      "Enter a number comma separator1,2,3,4,5\n",
      "['1', '2', '3', '4', '5']\n",
      "('1', '2', '3', '4', '5')\n"
     ]
    }
   ],
   "source": [
    "#Write a program which accepts a sequence of comma-separated numbers from console and generate a list and a tuple which contains every number.\n",
    "#Suppose the following input is supplied to the program:\n",
    "#34,67,55,33,12,98\n",
    "#Then, the output should be:\n",
    "#['34', '67', '55', '33', '12', '98']\n",
    "#('34', '67', '55', '33', '12', '98')\n",
    "#Hints: In case of input data being supplied to the question, it should be assumed to be a console input.tuple() method can convert list to tuple\n",
    "\n",
    "a=input(\"Enter a number comma separator\")\n",
    "x=a.split(\",\")\n",
    "y=tuple(x)\n",
    "print(x)\n",
    "print(y)"
   ]
  },
  {
   "cell_type": "code",
   "execution_count": 3,
   "metadata": {},
   "outputs": [
    {
     "name": "stdout",
     "output_type": "stream",
     "text": [
      "Enter valuesrini\n",
      "SRINI\n"
     ]
    }
   ],
   "source": [
    "#Define a class which has at least two methods: getString: to get a string from console input\n",
    "#printString: to print the string in upper case.\n",
    "\n",
    "class inputout:\n",
    "    def __init__(self):\n",
    "        self.s=\"\"\n",
    "    def getValue(self):\n",
    "        self.s=input(\"Enter value\")\n",
    "    def printValue(self):\n",
    "        print(self.s.upper())\n",
    "Obj = inputout()\n",
    "Obj.getValue()\n",
    "Obj.printValue()"
   ]
  },
  {
   "cell_type": "code",
   "execution_count": 14,
   "metadata": {},
   "outputs": [
    {
     "name": "stdout",
     "output_type": "stream",
     "text": [
      "Enter comma separated value100,150,180\n",
      "18,22,24,"
     ]
    }
   ],
   "source": [
    "#Write a program that calculates and prints the value according to the given formula:\n",
    "#Q = Square root of [(2 * C * D)/H]\n",
    "#Following are the fixed values of C and H:\n",
    "#C is 50. H is 30.\n",
    "#D is the variable whose values should be input to your program in a comma-separated sequence.\n",
    "#Example : Let us assume the following comma separated input sequence is given to the program:100,150,180\n",
    "#The output of the program should be:18,22,24\n",
    "\n",
    "c=50\n",
    "H=30\n",
    "inp=input(\"Enter comma separated value\")\n",
    "array=inp.split(',')\n",
    "for d in array:\n",
    "    print(int(round((2*c*int(d)/H)**0.5)),end=\",\")\n",
    "    "
   ]
  },
  {
   "cell_type": "code",
   "execution_count": 3,
   "metadata": {},
   "outputs": [
    {
     "name": "stdout",
     "output_type": "stream",
     "text": [
      "Enter side a5\n",
      "Enter side b6\n",
      "Enter side c7\n",
      "14.696938456699069\n"
     ]
    }
   ],
   "source": [
    "#Find area of triangle using three side\n",
    "#Let a,b,c be the lengths of the sides of a triangle. The area is given by: \n",
    "#Area=√p(p−a)(p−b)(p−c)\n",
    "#where p is half the perimeter, or  a+b+c/2\n",
    "\n",
    "a=int(input(\"Enter side a\"))\n",
    "b=int(input(\"Enter side b\"))\n",
    "c=int(input(\"Enter side c\"))\n",
    "s=(a+b+c)/2\n",
    "area = (s*(s-a)*(s-b)*(s-c)) ** 0.5\n",
    "print(area)"
   ]
  },
  {
   "cell_type": "code",
   "execution_count": 6,
   "metadata": {},
   "outputs": [
    {
     "name": "stdout",
     "output_type": "stream",
     "text": [
      "9000 is not a leap year\n"
     ]
    }
   ],
   "source": [
    "# Python program to check if the input year is a leap year or not\n",
    "year = 9000\n",
    "if (year % 4) == 0:\n",
    "    if (year % 100) == 0:\n",
    "        if (year % 400) == 0:\n",
    "            print(\"{0} is a leap year\".format(year))\n",
    "        else:\n",
    "            print(\"{0} is not a leap year\".format(year))\n",
    "    else:\n",
    "        print(\"{0} is a leap year\".format(year))\n",
    "else:\n",
    "    print(\"{0} is not a leap year\".format(year))"
   ]
  },
  {
   "cell_type": "code",
   "execution_count": 1,
   "metadata": {},
   "outputs": [
    {
     "ename": "TypeError",
     "evalue": "'int' object is not iterable",
     "output_type": "error",
     "traceback": [
      "\u001b[1;31m---------------------------------------------------------------------------\u001b[0m",
      "\u001b[1;31mTypeError\u001b[0m                                 Traceback (most recent call last)",
      "\u001b[1;32m<ipython-input-1-88165d1c678f>\u001b[0m in \u001b[0;36m<module>\u001b[1;34m()\u001b[0m\n\u001b[0;32m      2\u001b[0m \u001b[0mcol\u001b[0m\u001b[1;33m=\u001b[0m\u001b[1;36m3\u001b[0m\u001b[1;33m\u001b[0m\u001b[0m\n\u001b[0;32m      3\u001b[0m \u001b[0mmyList\u001b[0m \u001b[1;33m=\u001b[0m \u001b[1;33m[\u001b[0m\u001b[1;33m[\u001b[0m\u001b[1;36m0\u001b[0m \u001b[1;32mfor\u001b[0m \u001b[0mx\u001b[0m \u001b[1;32min\u001b[0m \u001b[0mrange\u001b[0m\u001b[1;33m(\u001b[0m\u001b[0mrow\u001b[0m\u001b[1;33m)\u001b[0m\u001b[1;33m]\u001b[0m \u001b[1;32mfor\u001b[0m \u001b[0my\u001b[0m \u001b[1;32min\u001b[0m \u001b[0mrange\u001b[0m\u001b[1;33m(\u001b[0m\u001b[0mcol\u001b[0m\u001b[1;33m)\u001b[0m\u001b[1;33m]\u001b[0m\u001b[1;33m\u001b[0m\u001b[0m\n\u001b[1;32m----> 4\u001b[1;33m \u001b[1;32mfor\u001b[0m \u001b[0mi\u001b[0m \u001b[1;32min\u001b[0m \u001b[0mrow\u001b[0m\u001b[1;33m:\u001b[0m\u001b[1;33m\u001b[0m\u001b[0m\n\u001b[0m\u001b[0;32m      5\u001b[0m     \u001b[1;32mfor\u001b[0m \u001b[0mj\u001b[0m \u001b[1;32min\u001b[0m \u001b[0mrow\u001b[0m\u001b[1;33m:\u001b[0m\u001b[1;33m\u001b[0m\u001b[0m\n\u001b[0;32m      6\u001b[0m         \u001b[0mmyList\u001b[0m\u001b[1;33m[\u001b[0m\u001b[0mi\u001b[0m\u001b[1;33m,\u001b[0m\u001b[0mj\u001b[0m\u001b[1;33m]\u001b[0m\u001b[1;33m=\u001b[0m\u001b[0mi\u001b[0m\u001b[1;33m*\u001b[0m\u001b[0mj\u001b[0m\u001b[1;33m\u001b[0m\u001b[0m\n",
      "\u001b[1;31mTypeError\u001b[0m: 'int' object is not iterable"
     ]
    }
   ],
   "source": [
    "row=5\n",
    "col=3\n",
    "myList = [[0 for x in range(row)] for y in range(col)] \n",
    "for i in row:\n",
    "    for j in row:\n",
    "        myList[i,j]=i*j"
   ]
  },
  {
   "cell_type": "code",
   "execution_count": 31,
   "metadata": {},
   "outputs": [
    {
     "data": {
      "text/plain": [
       "[[0, 0, 0, 0, 0], [0, 1, 2, 3, 4], [0, 2, 4, 6, 8]]"
      ]
     },
     "execution_count": 31,
     "metadata": {},
     "output_type": "execute_result"
    }
   ],
   "source": [
    "#Question:Write a program which takes 2 digits, X,Y as input and generates a 2-dimensional array. The element value in the i-th row and j-th column of the array should be i*j.\n",
    "#Note: i=0,1.., X-1; j=0,1,¡­Y-1.\n",
    "#Example:Suppose the following inputs are given to the program3,5\n",
    "#Then, the output of the program should be:[[0, 0, 0, 0, 0], [0, 1, 2, 3, 4], [0, 2, 4, 6, 8]] \n",
    "w, h = 5, 3;\n",
    "Matrix = [[0 for x in range(w)] for y in range(h)] \n",
    "for i in range(w):\n",
    "    for j in range(h):\n",
    "            Matrix[j][i]=i*j\n",
    "Matrix"
   ]
  },
  {
   "cell_type": "code",
   "execution_count": 7,
   "metadata": {},
   "outputs": [
    {
     "name": "stdout",
     "output_type": "stream",
     "text": [
      "Enter a number: 166\n",
      "166\n",
      "16\n",
      "1\n",
      "166 is not an Armstrong number\n"
     ]
    }
   ],
   "source": [
    "# Python program to check if the number provided by the user is an Armstrong number or not\n",
    "# take input from the user\n",
    "num = int(input(\"Enter a number: \"))\n",
    "sum = 0\n",
    "temp = num\n",
    "while temp > 0:\n",
    "    digit = temp % 10\n",
    "    sum += digit ** 3\n",
    "    temp //= 10\n",
    "\n",
    "if num == sum:\n",
    "   print(num,\"is an Armstrong number\")\n",
    "else:\n",
    "   print(num,\"is not an Armstrong number\")"
   ]
  },
  {
   "cell_type": "code",
   "execution_count": 10,
   "metadata": {},
   "outputs": [
    {
     "name": "stdout",
     "output_type": "stream",
     "text": [
      "Enter comma seperated stringwithout,hello,bag,world\n",
      "bag,hello,without,world,"
     ]
    }
   ],
   "source": [
    "#Write a program that accepts a comma separated sequence of words as input and prints the words in a comma-separated sequence after sorting them alphabetically.\n",
    "#Suppose the following input is supplied to the program:without,hello,bag,world\n",
    "#Then, the output should be:bag,hello,without,world\n",
    "inp=input(\"Enter comma seperated string\")\n",
    "a=inp.split(',')\n",
    "a.sort()\n",
    "for i in a:\n",
    "    print(i,end=\",\")"
   ]
  },
  {
   "cell_type": "code",
   "execution_count": 1,
   "metadata": {},
   "outputs": [
    {
     "name": "stdout",
     "output_type": "stream",
     "text": [
      "Enter a sentence with white spacehello world and practice makes perfect and hello world again\n",
      "again and hello makes perfect practice world "
     ]
    }
   ],
   "source": [
    "#Write a program that accepts a sequence of whitespace separated words as input and prints the words after removing all duplicate words and sorting them alphanumerically.\n",
    "#Suppose the following input is supplied to the program:hello world and practice makes perfect and hello world again\n",
    "#Then, the output should be:again and hello makes perfect practice world\n",
    "\n",
    "inp=input(\"Enter a sentence with white space\")\n",
    "a=inp.split(\" \")\n",
    "b=(set(a))\n",
    "c=list(b)\n",
    "c.sort()\n",
    "for i in c:\n",
    "    print(i,end=\" \")"
   ]
  },
  {
   "cell_type": "code",
   "execution_count": 3,
   "metadata": {},
   "outputs": [
    {
     "name": "stdout",
     "output_type": "stream",
     "text": [
      "[17, 15, 4]\n",
      "[10, 12, 9]\n",
      "[11, 13, 18]\n"
     ]
    }
   ],
   "source": [
    "# Program to add two matrices using nested loop\n",
    "X = [[12,7,3],\n",
    "    [4 ,5,6],\n",
    "    [7 ,8,9]]\n",
    "Y = [[5,8,1],\n",
    "    [6,7,3],\n",
    "    [4,5,9]]\n",
    "result = [[0,0,0],\n",
    "         [0,0,0],\n",
    "         [0,0,0]]\n",
    "\n",
    "for i in range(len(X)):\n",
    "    for j in range(len(X[i])):\n",
    "        result[i][j] = X[i][j] + Y[i][j]\n",
    "for r in result:\n",
    "    print(r)"
   ]
  },
  {
   "cell_type": "code",
   "execution_count": 6,
   "metadata": {},
   "outputs": [
    {
     "name": "stdout",
     "output_type": "stream",
     "text": [
      "Enter comma separated 4 digit binary number0100,0011,1010,1001,0100,0011,1010,1001\n",
      "1010,1010,"
     ]
    }
   ],
   "source": [
    "#Write a program which accepts a sequence of comma separated 4 digit binary numbers as its input and then check whether they are divisible by 5 or not. The numbers that are divisible by 5 are to be printed in a comma separated sequence.\n",
    "#Example:0100,0011,1010,1001\n",
    "#Then the output should be:1010\n",
    "value = []\n",
    "x=input(\"Enter comma separated 4 digit binary number\")\n",
    "items=x.split(',')\n",
    "for i in items:\n",
    "    out=int(i,2)\n",
    "    if(out%5==0):\n",
    "        print(i,end=\",\")"
   ]
  },
  {
   "cell_type": "code",
   "execution_count": 1,
   "metadata": {},
   "outputs": [
    {
     "name": "stdout",
     "output_type": "stream",
     "text": [
      "Enter a sentence:xchjx,xnzjk,cjkhckj\n"
     ]
    },
    {
     "data": {
      "text/plain": [
       "['xchjx', 'xnzjk', 'cjkhckj']"
      ]
     },
     "execution_count": 1,
     "metadata": {},
     "output_type": "execute_result"
    }
   ],
   "source": [
    "input=input(\"Enter a sentence:\")\n",
    "a=input.split(\",\")\n",
    "a.sort()\n",
    "list(set(a))"
   ]
  },
  {
   "cell_type": "code",
   "execution_count": 14,
   "metadata": {},
   "outputs": [
    {
     "data": {
      "text/plain": [
       "[[1, 3, 5], [2, 4, 6]]"
      ]
     },
     "execution_count": 14,
     "metadata": {},
     "output_type": "execute_result"
    }
   ],
   "source": [
    "# Program to transpose a matrix using nested loop\n",
    "a=[[1,2],[3,4],[5,6]]\n",
    "result=[[i for i in range(len(a))]for j in range(len(a[0]))]\n",
    "for i in range(len(a)):\n",
    "    for j in range(len(a[i])):\n",
    "        result[j][i]=a[i][j]\n",
    "result"
   ]
  },
  {
   "cell_type": "code",
   "execution_count": 1,
   "metadata": {},
   "outputs": [
    {
     "name": "stdout",
     "output_type": "stream",
     "text": [
      "Enter the range1010,120\n"
     ]
    }
   ],
   "source": [
    "#Question:Write a program, which will find all such numbers between 1000 and 3000 (both included) such that each digit of the number is an even number.\n",
    "#The numbers obtained should be printed in a comma-separated sequence on a single line.\n",
    "inp=input(\"Enter the range\")\n",
    "a=inp.split(\",\")\n",
    "for i in range(int(a[0]),int(a[1])):\n",
    "    string=str(i)\n",
    "    length=len(string)\n",
    "    x=0\n",
    "    count=1\n",
    "    while(x<length):\n",
    "        if(int(string[x])%2==0):\n",
    "            count+=1\n",
    "        x+=1\n",
    "    if(count==length):\n",
    "        print(string)"
   ]
  },
  {
   "cell_type": "code",
   "execution_count": 5,
   "metadata": {},
   "outputs": [],
   "source": [
    "# Python program to mail merger. Names are in the file names.txt. Body of the mail is in body.txt\n",
    "# open names.txt for reading\n",
    "with open(\"nameList.txt\",'r',encoding = 'utf-8') as names_file:\n",
    "    # open body.txt for reading\n",
    "    with open(\"body.txt\",'r',encoding = 'utf-8') as body_file:\n",
    "        # read entire content of the body\n",
    "        body = body_file.read()\n",
    "        # iterate over names\n",
    "        for name in names_file:\n",
    "            mail = body+\" \"+name\n",
    "            # write the mails to individual files\n",
    "            with open(name.strip()+\".txt\",'w',encoding = 'utf-8') as mail_file:\n",
    "                mail_file.write(mail)"
   ]
  },
  {
   "cell_type": "code",
   "execution_count": 22,
   "metadata": {},
   "outputs": [
    {
     "name": "stdout",
     "output_type": "stream",
     "text": [
      "Enter the sentencehello world! 123\n",
      "LETTERS 10 DIGITS 3\n"
     ]
    }
   ],
   "source": [
    "#Write a program that accepts a sentence and calculate the number of letters and digits.\n",
    "#Suppose the following input is supplied to the program:hello world! 123\n",
    "#Then, the output should be:LETTERS 10 DIGITS 3\n",
    "Letters=0\n",
    "Digits=0\n",
    "inp=input(\"Enter the sentence\")\n",
    "for i in inp:\n",
    "    if i.isdigit():\n",
    "        Digits+=1\n",
    "    if i.isalpha():\n",
    "        Letters+=1\n",
    "print(\"LETTERS {} DIGITS {}\".format(Letters,Digits))"
   ]
  },
  {
   "cell_type": "code",
   "execution_count": 2,
   "metadata": {},
   "outputs": [
    {
     "name": "stdout",
     "output_type": "stream",
     "text": [
      "UPPER CASE 1 LOWER CASE 9\n"
     ]
    }
   ],
   "source": [
    "#Write a program that accepts a sentence and calculate the number of upper case letters and lower case letters.\n",
    "#Suppose the following input is supplied to the program:Hello world!\n",
    "#Then, the output should be:UPPER CASE 1 LOWER CASE 9\n",
    "text=\"Hello world!\"\n",
    "upper=0\n",
    "lower=0\n",
    "for i in text:\n",
    "    if i.isupper():\n",
    "        upper += 1\n",
    "    elif i.islower():\n",
    "        lower += 1\n",
    "print (\"UPPER CASE {} LOWER CASE {}\".format(upper,lower))"
   ]
  },
  {
   "cell_type": "code",
   "execution_count": 10,
   "metadata": {},
   "outputs": [
    {
     "name": "stdout",
     "output_type": "stream",
     "text": [
      "11106\n"
     ]
    }
   ],
   "source": [
    "#Write a program that computes the value of a+aa+aaa+aaaa with a given digit as the value of a.\n",
    "#Suppose the following input is supplied to the program:9\n",
    "#Then, the output should be:11106\n",
    "a=9\n",
    "print(int(\"%s\" %a)+int( \"%s%s\" % (a,a) )+int( \"%s%s%s\" % (a,a,a) )+int( \"%s%s%s%s\" % (a,a,a,a) ))"
   ]
  },
  {
   "cell_type": "code",
   "execution_count": 13,
   "metadata": {},
   "outputs": [
    {
     "data": {
      "text/plain": [
       "a    0.930610\n",
       "b    0.811080\n",
       "c    2.184863\n",
       "d   -0.825945\n",
       "e    0.630109\n",
       "dtype: float64"
      ]
     },
     "execution_count": 13,
     "metadata": {},
     "output_type": "execute_result"
    }
   ],
   "source": [
    "import numpy as np\n",
    "import pandas as pd\n",
    "s=pd.Series(np.random.randn(5), index=['a', 'b', 'c', 'd', 'e'])\n",
    "s"
   ]
  },
  {
   "cell_type": "code",
   "execution_count": 1,
   "metadata": {},
   "outputs": [
    {
     "name": "stdout",
     "output_type": "stream",
     "text": [
      "15\n"
     ]
    }
   ],
   "source": [
    "x=[1,2,3,4,5]\n",
    "print(sum(x)"
   ]
  },
  {
   "cell_type": "code",
   "execution_count": 15,
   "metadata": {},
   "outputs": [
    {
     "name": "stdout",
     "output_type": "stream",
     "text": [
      "Enter a sequence of comma separated passwordsABd1234@1,a F1#,2w3E*,2We3345\n"
     ]
    },
    {
     "data": {
      "text/plain": [
       "['ABd1234@1']"
      ]
     },
     "execution_count": 15,
     "metadata": {},
     "output_type": "execute_result"
    }
   ],
   "source": [
    "#A website requires the users to input username and password to register. Write a program to check the validity of password \n",
    "#input by users.\n",
    "#Following are the criteria for checking the password:\n",
    "#1. At least 1 letter between [a-z]\n",
    "#2. At least 1 number between [0-9]\n",
    "#3. At least 1 letter between [A-Z]\n",
    "#4. At least 1 character from [$#@]\n",
    "#5. Minimum length of transaction password: 6\n",
    "#6. Maximum length of transaction password: 12\n",
    "#Your program should accept a sequence of comma separated passwords and will check them according to the above criteria. \n",
    "#Passwords that match the criteria are to be printed, each separated by a comma.\n",
    "#ExampleIf the following passwords are given as input to the program:ABd1234@1,a F1#,2w3E*,2We3345\n",
    "#Then, the output of the program should be:ABd1234@1\n",
    "import re\n",
    "inp=input(\"Enter a sequence of comma separated passwords\")\n",
    "[i for i in inp.split(\",\") if len(i) >= 6 and len(i) <= 12 and re.search(\"[a-z]\",i) and re.search(\"[A-Z]\",i) \n",
    " and re.search(\"[0-9]\",i) and re.search(\"[$#@]\",i)]"
   ]
  },
  {
   "cell_type": "code",
   "execution_count": 3,
   "metadata": {},
   "outputs": [
    {
     "name": "stdout",
     "output_type": "stream",
     "text": [
      "6\n",
      "1 2 3 4 10 11\n"
     ]
    },
    {
     "data": {
      "text/plain": [
       "[1, 2, 3, 4, 10, 11]"
      ]
     },
     "execution_count": 3,
     "metadata": {},
     "output_type": "execute_result"
    }
   ],
   "source": [
    "#HackerRank\n",
    "ar_count = int(input())\n",
    "ar = list(map(int, input().rstrip().split()))\n",
    "ar"
   ]
  },
  {
   "cell_type": "code",
   "execution_count": 10,
   "metadata": {},
   "outputs": [
    {
     "name": "stdout",
     "output_type": "stream",
     "text": [
      "5 6 7\n",
      "3 6 10\n",
      "1 1\n"
     ]
    }
   ],
   "source": [
    "#HackerRank\n",
    "#!/bin/python3\n",
    "\n",
    "import math\n",
    "import os\n",
    "import random\n",
    "import re\n",
    "import sys\n",
    "\n",
    "# Complete the compareTriplets function below.\n",
    "def compareTriplets(a, b):\n",
    "    array=[0,0]\n",
    "    for i,j in zip(a,b):\n",
    "        if i>j:\n",
    "            array[0] += 1\n",
    "        elif j>i:\n",
    "            array[1] +=1\n",
    "    print(array[0],array[1])\n",
    "def callFunction():\n",
    "    a = list(map(int, input().rstrip().split()))\n",
    "    b = list(map(int, input().rstrip().split()))\n",
    "    result = compareTriplets(a, b)\n",
    "callFunction()"
   ]
  },
  {
   "cell_type": "code",
   "execution_count": 18,
   "metadata": {},
   "outputs": [
    {
     "name": "stdout",
     "output_type": "stream",
     "text": [
      "3\n",
      "1 3\n",
      "5 5\n",
      "9 9\n",
      "15 17\n"
     ]
    }
   ],
   "source": [
    "array = [[1,2,3],[4,5,6],[9,8,9]]\n",
    "length=len(array)\n",
    "diagonal1,diagonal2=0,0\n",
    "for i in range(length):\n",
    "    diagonal1 += array[i][i]\n",
    "    diagonal2 += array[i][length-1]\n",
    "    length -= 1\n",
    "print(diagonal1,diagonal2)"
   ]
  },
  {
   "cell_type": "code",
   "execution_count": 7,
   "metadata": {},
   "outputs": [
    {
     "name": "stdout",
     "output_type": "stream",
     "text": [
      "6\n",
      "6 0.500000\n"
     ]
    }
   ],
   "source": [
    "array=[-4,3,-9,0,4,1]\n",
    "length=len(array)\n",
    "positive,negative,zero=0,0,0\n",
    "for i in array:\n",
    "    if i>0:\n",
    "        positive += 1\n",
    "    elif i<0:\n",
    "        negative += 1\n",
    "    else:\n",
    "        zero += 1\n",
    "print(length,end=\"\\n\")\n",
    "print(length,format(positive/length,'.6f'))"
   ]
  },
  {
   "cell_type": "code",
   "execution_count": 5,
   "metadata": {},
   "outputs": [
    {
     "name": "stdout",
     "output_type": "stream",
     "text": [
      "0.5\n",
      "0.50000\n"
     ]
    }
   ],
   "source": [
    "print(float(\"{0:.6f}\".format(6/12)))\n",
    "print(format(0.5, '.5f'))"
   ]
  },
  {
   "cell_type": "code",
   "execution_count": 31,
   "metadata": {},
   "outputs": [
    {
     "name": "stdout",
     "output_type": "stream",
     "text": [
      "   #\n",
      "  ##\n",
      " ###\n",
      "####\n"
     ]
    }
   ],
   "source": [
    "n=4\n",
    "for i in range(n):\n",
    "    for j in range(n):\n",
    "        if(j<n-(i+1)):\n",
    "            print(\" \",end=\"\")\n",
    "        else:\n",
    "            print(\"#\",end=\"\")\n",
    "    print(\"\",end=\"\\n\")\n",
    "    "
   ]
  },
  {
   "cell_type": "code",
   "execution_count": 37,
   "metadata": {},
   "outputs": [
    {
     "name": "stdout",
     "output_type": "stream",
     "text": [
      "299 9271\n"
     ]
    }
   ],
   "source": [
    "array=[7,69,2,221,8974]\n",
    "array.sort()\n",
    "#299 9271\n",
    "minSum=0\n",
    "maxSum=0\n",
    "for i in range(len(array)-1):\n",
    "    minSum += array[i]\n",
    "for j in range(1,len(array)):\n",
    "    maxSum += array[j]\n",
    "print(minSum,maxSum)"
   ]
  },
  {
   "cell_type": "code",
   "execution_count": 38,
   "metadata": {},
   "outputs": [
    {
     "name": "stdout",
     "output_type": "stream",
     "text": [
      "2\n"
     ]
    }
   ],
   "source": [
    "array=[3,2,1,3]\n",
    "array.sort()\n",
    "maxValue=max(array)\n",
    "print(array.count(maxValue))\n"
   ]
  },
  {
   "cell_type": "code",
   "execution_count": 55,
   "metadata": {},
   "outputs": [
    {
     "name": "stdout",
     "output_type": "stream",
     "text": [
      "00:05:45\n"
     ]
    }
   ],
   "source": [
    "inputTime=\"12:05:45AM\"\n",
    "#inputTime=\"11:00:50AM\"\n",
    "newInput=inputTime.replace(\"PM\",\"\").replace(\"AM\",\"\").split(\":\")\n",
    "if \"PM\" in inputTime and int(newInput[0])<12:\n",
    "    print(str(int(newInput[0])+12)+\":\"+str(newInput[1])+\":\"+str(newInput[2]))\n",
    "else:\n",
    "    if \"AM\" in inputTime and int(newInput[0])==12:\n",
    "        print(\"00\"+\":\"+str(newInput[1])+\":\"+str(newInput[2]))\n",
    "    else:\n",
    "        print(inputTime.replace(\"AM\",\"\").replace(\"PM\",\"\"))"
   ]
  },
  {
   "cell_type": "code",
   "execution_count": 74,
   "metadata": {},
   "outputs": [
    {
     "name": "stdout",
     "output_type": "stream",
     "text": [
      "we do what we must because we can\n"
     ]
    }
   ],
   "source": [
    "array=['because', 'can', 'do', 'must', 'we', 'what']\n",
    "passw=\"wedowhatwemustbecausewecan\"\n",
    "tes=passw\n",
    "for i in array:\n",
    "    passw=passw.replace(i,\"\")\n",
    "    tes = tes.replace(i,i+\" \")\n",
    "if(len(passw)==0):\n",
    "    print(tes.rstrip())\n",
    "else:\n",
    "    print(\"djkd\")\n"
   ]
  },
  {
   "cell_type": "code",
   "execution_count": 18,
   "metadata": {},
   "outputs": [
    {
     "name": "stdout",
     "output_type": "stream",
     "text": [
      "75\n",
      "67\n",
      "40\n",
      "33\n"
     ]
    }
   ],
   "source": [
    "a=[73,67,38,33]\n",
    "for i in a:\n",
    "    if i < 38:\n",
    "        print(i)\n",
    "    else:\n",
    "        mod=i%5\n",
    "        if(mod>0 and mod>=3):\n",
    "            i=i+(5-mod)\n",
    "            print(i)\n",
    "        else:\n",
    "            print(i)"
   ]
  },
  {
   "cell_type": "code",
   "execution_count": 21,
   "metadata": {},
   "outputs": [
    {
     "name": "stdout",
     "output_type": "stream",
     "text": [
      "1\n",
      "1\n"
     ]
    }
   ],
   "source": [
    "a=[7,11]\n",
    "b=[5,15]\n",
    "c=[-2,2,1]\n",
    "d=[5,-6]\n",
    "startPoint,endpoint=a[0],a[1]\n",
    "apple,orange=b[0],b[1]\n",
    "appleArray,orangeArray=[],[]\n",
    "appleCount,orangeCount=0,0\n",
    "for i in c:\n",
    "    appleArray.append(i+apple)\n",
    "for j in d:\n",
    "    orangeArray.append(j+orange)\n",
    "for k in appleArray:\n",
    "    if k>=a[0] and k<=a[1]:\n",
    "        appleCount += 1\n",
    "for l in orangeArray:\n",
    "    if l>=a[0] and l<=a[1]:\n",
    "        orangeCount += 1\n",
    "print(appleCount)\n",
    "print(orangeCount)"
   ]
  },
  {
   "cell_type": "code",
   "execution_count": 29,
   "metadata": {},
   "outputs": [
    {
     "name": "stdout",
     "output_type": "stream",
     "text": [
      "Yes\n"
     ]
    }
   ],
   "source": [
    "x1,v1,x2,v2=0,3,4,2\n",
    "count=0\n",
    "for i in range(1,10000):\n",
    "    if((x1+(v1*i)) == (x2+(v2*i))):\n",
    "        count=1\n",
    "        break\n",
    "print(\"Yes\" if count>0 else \"f\")"
   ]
  },
  {
   "cell_type": "code",
   "execution_count": 8,
   "metadata": {},
   "outputs": [
    {
     "name": "stdout",
     "output_type": "stream",
     "text": [
      "[1, 2, 3, 4, 5, 6, 7, 8, 9, 10, 11, 12, 13, 14, 15, 16, 17, 18, 19, 20, 21, 22, 23, 24, 25, 26, 27, 28, 29, 30, 31, 32, 33, 34, 35, 36, 37, 38, 39, 40, 41, 42, 43, 44, 45, 46, 47, 48, 49, 50, 51, 52, 53, 54, 55, 56, 57, 58, 59, 60, 61, 62, 63, 64, 65, 66, 67, 68, 69, 70, 71, 72, 73, 74, 75, 76, 77, 78, 79, 80, 81, 82, 83, 84, 85, 86, 87, 88, 89, 90, 91, 92, 93, 94, 95, 96, 97, 98, 99, 100]\n",
      "[1, 2, 4, 5, 10, 20, 25, 50, 100]\n",
      "9\n"
     ]
    }
   ],
   "source": [
    "a=[1]\n",
    "b=[100]\n",
    "a.sort()\n",
    "b.sort()\n",
    "aLength=len(a)\n",
    "bLength=len(b)\n",
    "aArray=[]\n",
    "bArray=[]\n",
    "for i in range(1,b[bLength-1]+1):\n",
    "    aCount=0\n",
    "    for k in range(aLength):\n",
    "        if(i%a[k]==0):\n",
    "            aCount += 1\n",
    "    if aCount == aLength:\n",
    "        aArray.append(i)\n",
    "for j in range(1,b[bLength-1]+1):\n",
    "    bCount=0\n",
    "    for k in range(bLength):\n",
    "        if(b[k]%j==0):\n",
    "            bCount += 1\n",
    "    if bCount == bLength:\n",
    "        bArray.append(j)\n",
    "print(aArray)\n",
    "print(bArray)\n",
    "print(len(set(aArray).intersection(set(bArray))))\n",
    "   "
   ]
  },
  {
   "cell_type": "code",
   "execution_count": 11,
   "metadata": {},
   "outputs": [
    {
     "name": "stdout",
     "output_type": "stream",
     "text": [
      "4 2\n"
     ]
    }
   ],
   "source": [
    "array=[10,5,20,20,4,5,2,25,1]\n",
    "minValue,minCount,maxValue,maxCount=array[0],0,array[0],0\n",
    "for i in array:\n",
    "    if i<minValue:\n",
    "        minValue = i\n",
    "        minCount += 1\n",
    "    if i>maxValue:\n",
    "        maxValue = i\n",
    "        maxCount += 1\n",
    "print(maxCount,minCount)"
   ]
  },
  {
   "cell_type": "code",
   "execution_count": 21,
   "metadata": {},
   "outputs": [
    {
     "name": "stdout",
     "output_type": "stream",
     "text": [
      "0\n"
     ]
    }
   ],
   "source": [
    "array=[1,1,1,1,1,1]\n",
    "date=3\n",
    "month=2\n",
    "count=0\n",
    "for i in range(len(array)):\n",
    "    value=0\n",
    "    for j in array[i:i+month]:\n",
    "        value += j\n",
    "    if(value == date):\n",
    "        count += 1\n",
    "print(count)"
   ]
  },
  {
   "cell_type": "code",
   "execution_count": 26,
   "metadata": {},
   "outputs": [
    {
     "name": "stdout",
     "output_type": "stream",
     "text": [
      "5\n"
     ]
    }
   ],
   "source": [
    "length,k=6,3\n",
    "count=0\n",
    "array=[1,3,2,6,1,2]\n",
    "index=0\n",
    "for i in array:\n",
    "    for j in array[index+1:length]:\n",
    "        if((i+j)%k==0):\n",
    "            count += 1\n",
    "    index += 1\n",
    "print(count)"
   ]
  },
  {
   "cell_type": "code",
   "execution_count": 30,
   "metadata": {},
   "outputs": [
    {
     "name": "stdout",
     "output_type": "stream",
     "text": [
      "1\n"
     ]
    }
   ],
   "source": [
    "array=[1,1,2,2,3]\n",
    "id=0\n",
    "count=0\n",
    "newArray = list(set(array))\n",
    "for i in newArray:\n",
    "    if array.count(i)>count:\n",
    "        count = array.count(i)\n",
    "        id=i\n",
    "    elif array.count(i)==count:\n",
    "        if(id>i):\n",
    "            id=i\n",
    "print(id)"
   ]
  },
  {
   "cell_type": "code",
   "execution_count": 35,
   "metadata": {},
   "outputs": [
    {
     "name": "stdout",
     "output_type": "stream",
     "text": [
      "13.09.1918\n"
     ]
    }
   ],
   "source": [
    "year = 1918\n",
    "if(year%4==0):\n",
    "    if(year%100==0):\n",
    "        if(year%400==0):\n",
    "            print(\"12.09.\"+str(year))\n",
    "        else:\n",
    "            print(\"13.09.\"+str(year))\n",
    "    else:\n",
    "        print(\"12.09.\"+str(year))\n",
    "else:\n",
    "    print (\"13.09.\"+str(year))"
   ]
  },
  {
   "cell_type": "code",
   "execution_count": 3,
   "metadata": {},
   "outputs": [
    {
     "name": "stdout",
     "output_type": "stream",
     "text": [
      "\n"
     ]
    }
   ],
   "source": [
    "n=4\n",
    "k=1\n",
    "billarray=[3,10,2,9]\n",
    "annabill=7\n",
    "calculateamount=0\n",
    "for i in range(n):\n",
    "    if(i != k):\n",
    "        calculateamount += billarray[i]\n",
    "shareAmount=int(calculateamount/2)\n",
    "if(shareAmount == annabill):\n",
    "    print(\"\")\n",
    "else:\n",
    "    print(annabill-shareAmount)"
   ]
  },
  {
   "cell_type": "code",
   "execution_count": 7,
   "metadata": {},
   "outputs": [
    {
     "name": "stdout",
     "output_type": "stream",
     "text": [
      "[10, 20, 50, 30]\n",
      "[4, 3, 1, 1]\n",
      "3\n"
     ]
    }
   ],
   "source": [
    "n=9\n",
    "array=[10,20,20,10,10,30,50,10,20]\n",
    "distinctArray=list(set(array))\n",
    "countArray=list()\n",
    "paircount=0\n",
    "for i in distinctArray:\n",
    "    countArray.append(array.count(i))\n",
    "print(distinctArray)\n",
    "print(countArray)\n",
    "for j in countArray:\n",
    "    paircount +=(int(j/2))\n",
    "    \n",
    "print(paircount)"
   ]
  },
  {
   "cell_type": "code",
   "execution_count": 24,
   "metadata": {},
   "outputs": [
    {
     "name": "stdout",
     "output_type": "stream",
     "text": [
      "0\n"
     ]
    }
   ],
   "source": [
    "totalPage=5\n",
    "turnPage=5\n",
    "if(turnPage <= int(totalPage/2)):\n",
    "    print(int(turnPage/2))\n",
    "else:\n",
    "    sub=0\n",
    "    if(totalPage%2==0 or totalPage == turnPage):\n",
    "        sub=totalPage-turnPage\n",
    "    else:\n",
    "        sub=totalPage-turnPage-1\n",
    "    print(int(sub%2)+int(sub/2))"
   ]
  },
  {
   "cell_type": "code",
   "execution_count": 4,
   "metadata": {},
   "outputs": [
    {
     "name": "stdout",
     "output_type": "stream",
     "text": [
      "-1\n"
     ]
    }
   ],
   "source": [
    "array1=[5,1,1]\n",
    "keyboard=[4]\n",
    "USB=[5]\n",
    "maxValue=0\n",
    "for i in keyboard:\n",
    "    for j in USB:\n",
    "        if maxValue < i+j and i+j<array1[0]:\n",
    "            maxValue = i+j\n",
    "if(maxValue > 0):\n",
    "    print(maxValue)\n",
    "else:\n",
    "    print(-1)\n",
    "    "
   ]
  },
  {
   "cell_type": "code",
   "execution_count": 5,
   "metadata": {},
   "outputs": [
    {
     "name": "stdout",
     "output_type": "stream",
     "text": [
      "CATA\n"
     ]
    }
   ],
   "source": [
    "#1 2 3\n",
    "#1 3 2\n",
    "x,y,z=1,2,3\n",
    "catA=abs(x-z)\n",
    "catB=abs(y-z)\n",
    "if catA>catB:\n",
    "    print (\"CATA\")\n",
    "elif catB>catA:\n",
    "    print (\"CATB\")\n",
    "else:\n",
    "    print(\"MOUSE C\")"
   ]
  },
  {
   "cell_type": "code",
   "execution_count": 15,
   "metadata": {},
   "outputs": [
    {
     "name": "stdout",
     "output_type": "stream",
     "text": [
      "[1, 1, 2, 4, 4, 5, 7, 8, 9]\n",
      "4\n"
     ]
    }
   ],
   "source": [
    "a=[[4,5,8],[2,4,1],[1,9,7]]\n",
    "n=3\n",
    "singleArray=[]\n",
    "for i in range(n):\n",
    "    singleArray.extend(a[i])\n",
    "singleArray.sort()\n",
    "print(singleArray)\n",
    "lastValue=0\n",
    "value=0\n",
    "for j in singleArray:\n",
    "    if lastValue ==0 and lastValue < j:\n",
    "        lastValue = j\n",
    "    elif lastValue+1 == j:\n",
    "        lastValue = j\n",
    "    else:\n",
    "        value += abs(j-(lastValue+1))\n",
    "        lastValue = lastValue+1\n",
    "print(value)"
   ]
  },
  {
   "cell_type": "code",
   "execution_count": 1,
   "metadata": {},
   "outputs": [
    {
     "name": "stdout",
     "output_type": "stream",
     "text": [
      "4 5 8\n",
      "2 4 1\n",
      "1 9 7\n",
      "14\n"
     ]
    }
   ],
   "source": [
    "import sys\n",
    "diffs = []\n",
    "s = []\n",
    "for s_i in range(3):\n",
    "    s_t = [int(s_temp) for s_temp in input().strip().split(' ')]\n",
    "    s.append(s_t)\n",
    "\n",
    "all_possible = [\n",
    "            [[8, 1, 6], [3, 5, 7], [4, 9, 2]],\n",
    "            [[6, 1, 8], [7, 5, 3], [2, 9, 4]],\n",
    "            [[4, 9, 2], [3, 5, 7], [8, 1, 6]],\n",
    "            [[2, 9, 4], [7, 5, 3], [6, 1, 8]], \n",
    "            [[8, 3, 4], [1, 5, 9], [6, 7, 2]],\n",
    "            [[4, 3, 8], [9, 5, 1], [2, 7, 6]], \n",
    "            [[6, 7, 2], [1, 5, 9], [8, 3, 4]], \n",
    "            [[2, 7, 6], [9, 5, 1], [4, 3, 8]],]\n",
    "\n",
    "#compare s to each in all possible get number of differences for each to diffs\n",
    "for possiblity in all_possible:\n",
    "    cost = 0\n",
    "    for p_row, s_row in list(zip(possiblity,s)):\n",
    "        for p_num, s_num in (list(zip(p_row, s_row))):\n",
    "            if p_num != s_num:\n",
    "                cost += abs(p_num - s_num)\n",
    "    diffs.append(cost)\n",
    "print(min(diffs))"
   ]
  },
  {
   "cell_type": "code",
   "execution_count": 4,
   "metadata": {},
   "outputs": [
    {
     "name": "stdout",
     "output_type": "stream",
     "text": [
      "U 1\n",
      "D 0\n",
      "D -1\n",
      "D -2\n",
      "U -1\n",
      "D -2\n",
      "U -1\n",
      "U 0\n",
      "1\n"
     ]
    }
   ],
   "source": [
    "n=8\n",
    "string=\"UDDDUDUU\"\n",
    "v,lvl=0,0\n",
    "for i in string:\n",
    "    if(i=='U'):\n",
    "        lvl+=1\n",
    "    if(i=='D'):\n",
    "        lvl-=1\n",
    "    print(i,lvl)\n",
    "    if(lvl==0 and i=='U'):\n",
    "        v+=1\n",
    "print(v)"
   ]
  },
  {
   "cell_type": "code",
   "execution_count": 20,
   "metadata": {},
   "outputs": [
    {
     "name": "stdout",
     "output_type": "stream",
     "text": [
      "[1, 3, 3, 4, 5, 6]\n",
      "0\n",
      "df 0\n",
      "3\n",
      "1\n",
      "df 0\n",
      "3\n",
      "3\n"
     ]
    }
   ],
   "source": [
    "array=[4,6,5,3,3,1]\n",
    "#array=[1,2,2,3,1,2]\n",
    "#array=[1,1,2,2,4,4,5,5,5]\n",
    "array.sort()\n",
    "value=0\n",
    "ansArray=[]\n",
    "print(array)\n",
    "for i in range(len(array)-1):\n",
    "    sub = abs(array[i]-array[i+1])\n",
    "    if sub<=1 and value==0:\n",
    "        print(sub)\n",
    "        print(\"df\",value)\n",
    "        print(array[i])\n",
    "        value = sub\n",
    "        ansArray.append(array[i])\n",
    "        if sub == 1:\n",
    "            ansArray.append(array[i+1])\n",
    "    elif array[i]==array[i+1]:\n",
    "        ansArray.append(array[i])\n",
    "print(len(ansArray))"
   ]
  },
  {
   "cell_type": "code",
   "execution_count": 3,
   "metadata": {},
   "outputs": [
    {
     "name": "stdout",
     "output_type": "stream",
     "text": [
      "          Test Case ID  # Steps  \\\n",
      "0      Test case 13559      1.0   \n",
      "1                  NaN      1.1   \n",
      "2                  NaN      1.2   \n",
      "3                  NaN      1.3   \n",
      "4                  NaN      1.4   \n",
      "5                  NaN      1.5   \n",
      "6                  NaN      1.6   \n",
      "7                  NaN      2.0   \n",
      "8                  NaN      2.1   \n",
      "9                  NaN      2.2   \n",
      "10                 NaN      3.0   \n",
      "11                 NaN      3.1   \n",
      "12                 NaN      3.2   \n",
      "13                 NaN      3.3   \n",
      "14                 NaN      4.0   \n",
      "15                 NaN      4.1   \n",
      "16                 NaN      4.2   \n",
      "17                 NaN      4.3   \n",
      "18                 NaN      4.4   \n",
      "19                 NaN      4.5   \n",
      "20                 NaN      5.0   \n",
      "21                 NaN      5.1   \n",
      "22                 NaN      5.2   \n",
      "23                 NaN      NaN   \n",
      "24                 NaN      5.3   \n",
      "25                 NaN      5.4   \n",
      "26                 NaN      NaN   \n",
      "27                 NaN      5.5   \n",
      "28                 NaN      5.6   \n",
      "29                 NaN      6.0   \n",
      "...                ...      ...   \n",
      "23555              NaN     14.1   \n",
      "23556              NaN     14.2   \n",
      "23557              NaN     15.0   \n",
      "23558              NaN     15.1   \n",
      "23559              NaN     15.2   \n",
      "23560              NaN     15.3   \n",
      "23561              NaN     16.0   \n",
      "23562              NaN      NaN   \n",
      "23563              NaN      NaN   \n",
      "23564              NaN      NaN   \n",
      "23565              NaN     17.0   \n",
      "23566              NaN      NaN   \n",
      "23567              NaN      NaN   \n",
      "23568              NaN     18.0   \n",
      "23569              NaN     19.0   \n",
      "23570              NaN     20.0   \n",
      "23571              NaN     21.0   \n",
      "23572              NaN     22.0   \n",
      "23573              NaN     23.0   \n",
      "23574              NaN     24.0   \n",
      "23575              NaN     24.1   \n",
      "23576              NaN     25.0   \n",
      "23577              NaN     26.0   \n",
      "23578              NaN     27.0   \n",
      "23579              NaN     27.1   \n",
      "23580              NaN     27.2   \n",
      "23581              NaN     28.0   \n",
      "23582              NaN     29.0   \n",
      "23583              NaN     29.1   \n",
      "23584              NaN     29.2   \n",
      "\n",
      "                                                  Action  \\\n",
      "0         Check user is able to login to the application   \n",
      "1                            Launch the Browser @Browser   \n",
      "2                                         Enter the @URL   \n",
      "3                                        Click Enter Key   \n",
      "4                                 Enter a valid @EmailID   \n",
      "5                                Enter a valid @Password   \n",
      "6                                        Click on Login    \n",
      "7                                             Open Rules   \n",
      "8                                Click on Administration   \n",
      "9                                        Click on Rules    \n",
      "10                 Check Merit tile in Rules is selected   \n",
      "11                      Click on Compensation Components   \n",
      "12                                     Enable Merit tile   \n",
      "13                                 Click on Save button    \n",
      "14             Check Promotion tile in Rules is selected   \n",
      "15                               Click on Administration   \n",
      "16                                       Click on Rules    \n",
      "17                 Click on the Compensation components    \n",
      "18                               Enable Adjustment tile    \n",
      "19                                 Click on save button    \n",
      "20                             Set Merit Proration to ON   \n",
      "21       Click on Set Performance Rating and Merit Rule    \n",
      "22                                      Enable proration   \n",
      "23                                                   NaN   \n",
      "24      Select @FromDate as Start date from Date Picker    \n",
      "25           Select @ToDate as End date from Date Picker   \n",
      "26                                                   NaN   \n",
      "27       Select @ProrationType from Prorate type toggle    \n",
      "28                                        Click on Save    \n",
      "29                           Set Rounding Rule for Merit   \n",
      "...                                                  ...   \n",
      "23555                            Click on 'Rewards' menu   \n",
      "23556       Click on 'Recommend Increase' from sub-menu    \n",
      "23557                   Select Manager from Manager tree   \n",
      "23558  Click on Manager tree sliding in Recommend Inc...   \n",
      "23559    Enter a manager name @ManagerName in search bar   \n",
      "23560                              Click on @ManagerName   \n",
      "23561                       Verify the Adjustment Pct      \n",
      "23562                                                NaN   \n",
      "23563                                                NaN   \n",
      "23564                                                NaN   \n",
      "23565                           Verify Adjustment Amt      \n",
      "23566                                                NaN   \n",
      "23567                                                NaN   \n",
      "23568                           Verify the New Salary      \n",
      "23569                       Verify the New Hourly Rate     \n",
      "23570                     Verify the New Compa-Ratio       \n",
      "23571                                  Verify the TCC      \n",
      "23572                    Click on Narrow down icon         \n",
      "23573                 Verify the Adjustment Spent          \n",
      "23574                              Navigate to Dashboard   \n",
      "23575                                     Click on Home    \n",
      "23576                   Verify Directs Adjustment Count    \n",
      "23577        Verify My Organization Adjustment count       \n",
      "23578                                   Open Budget Plan   \n",
      "23579                            Click on Administration   \n",
      "23580                               Click on Budget Plan   \n",
      "23581                          Verify Adjustment Spent     \n",
      "23582                               Logout from the tool   \n",
      "23583                               Click on Logout icon   \n",
      "23584                                                NaN   \n",
      "\n",
      "                                          Expected value  \n",
      "0                                                    NaN  \n",
      "1                Verify that browser home page is opened  \n",
      "2           Verify that URL is displayed in address bar   \n",
      "3                  Verify that Login screen is displayed  \n",
      "4              Verify that entered @EmailID is displayed  \n",
      "5      Verify that asterisk symbol is displayed in pl...  \n",
      "6                Verify that Dashboard page is displayed  \n",
      "7                                                    NaN  \n",
      "8                    Verify that a sub-menu is displayed  \n",
      "9             Verify that manage rules section is opened  \n",
      "10                                                   NaN  \n",
      "11     Verify that Compensation Components page is op...  \n",
      "12                    Verify that Merit tile is selected  \n",
      "13     Verify that \"Rules applied successfully\" messa...  \n",
      "14                                                   NaN  \n",
      "15                     Verify that a sub-menu is opened   \n",
      "16              Verify that Manage Rules page is opened   \n",
      "17     Verify that compensation components page is op...  \n",
      "18               Verify that Adjustment tile is selected  \n",
      "19     Verify that \"Rules applied successfully\" messa...  \n",
      "20                                                   NaN  \n",
      "21     Verify that Set Performance Rating and Merit R...  \n",
      "22     Verify that Prorate Merit toggle is displayed ...  \n",
      "23                                                   NaN  \n",
      "24     Verify that selected @FromDate is displayed in...  \n",
      "25     Verify that selected @ToDate is displayed in T...  \n",
      "26                                                   NaN  \n",
      "27     Verify that selected @ProrationType is highlig...  \n",
      "28     Verify that \"Rules Applied Successfully\" chalk...  \n",
      "29                                                   NaN  \n",
      "...                                                  ...  \n",
      "23555                Verify that a sub-menu is displayed  \n",
      "23556   Verify that Recommend Increase page is displayed  \n",
      "23557                                                NaN  \n",
      "23558              Verify that Manager Tree is displayed  \n",
      "23559  Verify that manager name @ManagerName is highl...  \n",
      "23560  Verify that selected @ManagerName should be di...  \n",
      "23561        Verify @ExpectedAdjustmentPct is displayed   \n",
      "23562                                                NaN  \n",
      "23563  If @ExpectedAdjustmentPct is within MinRange a...  \n",
      "23564        else it should be displayed in red color     \n",
      "23565      Verify @ExpectedAdjustmentAmt is displayed     \n",
      "23566                                                NaN  \n",
      "23567  If ExpectedAdjustmentPct is within MinRange an...  \n",
      "23568                Verify @NewSalary in New salary      \n",
      "23569   Verify @NewHourlyRate in New Hourly rate colu...  \n",
      "23570       Verify @NewCompaRatio in New Compa-Ratio      \n",
      "23571                           Verify @TCC in  TCC       \n",
      "23572  Verify that Spent Summary pop up is opened         \n",
      "23573  Verify @AdjustmentSpent in  Adjustment Spent       \n",
      "23574                                                NaN  \n",
      "23575                 Verify that Dashboard is displayed  \n",
      "23576  Verify @DirectAdjustmentCount in Directs Adjus...  \n",
      "23577  Verify @MyOrgAdjustmentCount in My Organizatio...  \n",
      "23578                                                NaN  \n",
      "23579                Verify that a sub-menu should open   \n",
      "23580         Verify that Budget Plan section is opened   \n",
      "23581  Verify @BPAdjustmentSpent in Adjustment Spent ...  \n",
      "23582                                                NaN  \n",
      "23583     Verify that @logoutURL is shown in address bar  \n",
      "23584   Verify that ' You have been logged out succes...  \n",
      "\n",
      "[23585 rows x 4 columns]\n"
     ]
    }
   ],
   "source": [
    "import pandas as pd\n",
    "excel=pd.read_excel('MTM_Automation Test Cases1.xlsx')\n",
    "print(excel)"
   ]
  },
  {
   "cell_type": "code",
   "execution_count": 4,
   "metadata": {},
   "outputs": [
    {
     "data": {
      "text/html": [
       "<div>\n",
       "<style scoped>\n",
       "    .dataframe tbody tr th:only-of-type {\n",
       "        vertical-align: middle;\n",
       "    }\n",
       "\n",
       "    .dataframe tbody tr th {\n",
       "        vertical-align: top;\n",
       "    }\n",
       "\n",
       "    .dataframe thead th {\n",
       "        text-align: right;\n",
       "    }\n",
       "</style>\n",
       "<table border=\"1\" class=\"dataframe\">\n",
       "  <thead>\n",
       "    <tr style=\"text-align: right;\">\n",
       "      <th></th>\n",
       "      <th>Test Case ID</th>\n",
       "      <th># Steps</th>\n",
       "      <th>Action</th>\n",
       "      <th>Expected value</th>\n",
       "    </tr>\n",
       "  </thead>\n",
       "  <tbody>\n",
       "    <tr>\n",
       "      <th>20</th>\n",
       "      <td>NaN</td>\n",
       "      <td>5.0</td>\n",
       "      <td>Set Merit Proration to ON</td>\n",
       "      <td>NaN</td>\n",
       "    </tr>\n",
       "    <tr>\n",
       "      <th>132</th>\n",
       "      <td>NaN</td>\n",
       "      <td>6.0</td>\n",
       "      <td>Set Merit Proration to ON</td>\n",
       "      <td>NaN</td>\n",
       "    </tr>\n",
       "    <tr>\n",
       "      <th>326</th>\n",
       "      <td>NaN</td>\n",
       "      <td>8.0</td>\n",
       "      <td>Set Merit Proration to ON</td>\n",
       "      <td>NaN</td>\n",
       "    </tr>\n",
       "    <tr>\n",
       "      <th>419</th>\n",
       "      <td>NaN</td>\n",
       "      <td>6.0</td>\n",
       "      <td>Set Merit Proration to ON</td>\n",
       "      <td>NaN</td>\n",
       "    </tr>\n",
       "    <tr>\n",
       "      <th>518</th>\n",
       "      <td>NaN</td>\n",
       "      <td>5.0</td>\n",
       "      <td>Set Merit Proration to ON</td>\n",
       "      <td>NaN</td>\n",
       "    </tr>\n",
       "    <tr>\n",
       "      <th>623</th>\n",
       "      <td>NaN</td>\n",
       "      <td>6.0</td>\n",
       "      <td>Set Merit Proration to ON</td>\n",
       "      <td>NaN</td>\n",
       "    </tr>\n",
       "    <tr>\n",
       "      <th>720</th>\n",
       "      <td>NaN</td>\n",
       "      <td>6.0</td>\n",
       "      <td>Set Merit Proration to ON</td>\n",
       "      <td>NaN</td>\n",
       "    </tr>\n",
       "    <tr>\n",
       "      <th>821</th>\n",
       "      <td>NaN</td>\n",
       "      <td>6.0</td>\n",
       "      <td>Set Merit Proration to ON</td>\n",
       "      <td>NaN</td>\n",
       "    </tr>\n",
       "    <tr>\n",
       "      <th>931</th>\n",
       "      <td>NaN</td>\n",
       "      <td>6.0</td>\n",
       "      <td>Set Merit Proration to ON</td>\n",
       "      <td>NaN</td>\n",
       "    </tr>\n",
       "    <tr>\n",
       "      <th>1033</th>\n",
       "      <td>NaN</td>\n",
       "      <td>6.0</td>\n",
       "      <td>Set Merit Proration to ON</td>\n",
       "      <td>NaN</td>\n",
       "    </tr>\n",
       "    <tr>\n",
       "      <th>1136</th>\n",
       "      <td>NaN</td>\n",
       "      <td>6.0</td>\n",
       "      <td>Set Merit Proration to ON</td>\n",
       "      <td>NaN</td>\n",
       "    </tr>\n",
       "    <tr>\n",
       "      <th>1244</th>\n",
       "      <td>NaN</td>\n",
       "      <td>6.0</td>\n",
       "      <td>Set Merit Proration to ON</td>\n",
       "      <td>NaN</td>\n",
       "    </tr>\n",
       "    <tr>\n",
       "      <th>1350</th>\n",
       "      <td>NaN</td>\n",
       "      <td>6.0</td>\n",
       "      <td>Set Merit Proration to ON</td>\n",
       "      <td>NaN</td>\n",
       "    </tr>\n",
       "    <tr>\n",
       "      <th>1439</th>\n",
       "      <td>NaN</td>\n",
       "      <td>5.0</td>\n",
       "      <td>Set Merit Proration to ON</td>\n",
       "      <td>NaN</td>\n",
       "    </tr>\n",
       "    <tr>\n",
       "      <th>1542</th>\n",
       "      <td>NaN</td>\n",
       "      <td>6.0</td>\n",
       "      <td>Set Merit Proration to ON</td>\n",
       "      <td>NaN</td>\n",
       "    </tr>\n",
       "    <tr>\n",
       "      <th>1652</th>\n",
       "      <td>NaN</td>\n",
       "      <td>6.0</td>\n",
       "      <td>Set Merit Proration to ON</td>\n",
       "      <td>NaN</td>\n",
       "    </tr>\n",
       "    <tr>\n",
       "      <th>1762</th>\n",
       "      <td>NaN</td>\n",
       "      <td>6.0</td>\n",
       "      <td>Set Merit Proration to ON</td>\n",
       "      <td>NaN</td>\n",
       "    </tr>\n",
       "    <tr>\n",
       "      <th>1864</th>\n",
       "      <td>NaN</td>\n",
       "      <td>6.0</td>\n",
       "      <td>Set Merit Proration to ON</td>\n",
       "      <td>NaN</td>\n",
       "    </tr>\n",
       "    <tr>\n",
       "      <th>1966</th>\n",
       "      <td>NaN</td>\n",
       "      <td>6.0</td>\n",
       "      <td>Set Merit Proration to ON</td>\n",
       "      <td>NaN</td>\n",
       "    </tr>\n",
       "    <tr>\n",
       "      <th>2074</th>\n",
       "      <td>NaN</td>\n",
       "      <td>6.0</td>\n",
       "      <td>Set Merit Proration to ON</td>\n",
       "      <td>NaN</td>\n",
       "    </tr>\n",
       "    <tr>\n",
       "      <th>2180</th>\n",
       "      <td>NaN</td>\n",
       "      <td>6.0</td>\n",
       "      <td>Set Merit Proration to ON</td>\n",
       "      <td>NaN</td>\n",
       "    </tr>\n",
       "    <tr>\n",
       "      <th>2275</th>\n",
       "      <td>NaN</td>\n",
       "      <td>5.0</td>\n",
       "      <td>Set Merit Proration to ON</td>\n",
       "      <td>NaN</td>\n",
       "    </tr>\n",
       "    <tr>\n",
       "      <th>5666</th>\n",
       "      <td>NaN</td>\n",
       "      <td>6.0</td>\n",
       "      <td>Set Merit Proration to ON</td>\n",
       "      <td>NaN</td>\n",
       "    </tr>\n",
       "    <tr>\n",
       "      <th>5778</th>\n",
       "      <td>NaN</td>\n",
       "      <td>6.0</td>\n",
       "      <td>Set Merit Proration to ON</td>\n",
       "      <td>NaN</td>\n",
       "    </tr>\n",
       "    <tr>\n",
       "      <th>5888</th>\n",
       "      <td>NaN</td>\n",
       "      <td>6.0</td>\n",
       "      <td>Set Merit Proration to ON</td>\n",
       "      <td>NaN</td>\n",
       "    </tr>\n",
       "    <tr>\n",
       "      <th>5990</th>\n",
       "      <td>NaN</td>\n",
       "      <td>6.0</td>\n",
       "      <td>Set Merit Proration to ON</td>\n",
       "      <td>NaN</td>\n",
       "    </tr>\n",
       "    <tr>\n",
       "      <th>6092</th>\n",
       "      <td>NaN</td>\n",
       "      <td>6.0</td>\n",
       "      <td>Set Merit Proration to ON</td>\n",
       "      <td>NaN</td>\n",
       "    </tr>\n",
       "    <tr>\n",
       "      <th>6200</th>\n",
       "      <td>NaN</td>\n",
       "      <td>6.0</td>\n",
       "      <td>Set Merit Proration to ON</td>\n",
       "      <td>NaN</td>\n",
       "    </tr>\n",
       "    <tr>\n",
       "      <th>6307</th>\n",
       "      <td>NaN</td>\n",
       "      <td>6.0</td>\n",
       "      <td>Set Merit Proration to ON</td>\n",
       "      <td>NaN</td>\n",
       "    </tr>\n",
       "    <tr>\n",
       "      <th>6402</th>\n",
       "      <td>NaN</td>\n",
       "      <td>5.0</td>\n",
       "      <td>Set Merit Proration to ON</td>\n",
       "      <td>NaN</td>\n",
       "    </tr>\n",
       "    <tr>\n",
       "      <th>...</th>\n",
       "      <td>...</td>\n",
       "      <td>...</td>\n",
       "      <td>...</td>\n",
       "      <td>...</td>\n",
       "    </tr>\n",
       "    <tr>\n",
       "      <th>16944</th>\n",
       "      <td>NaN</td>\n",
       "      <td>8.0</td>\n",
       "      <td>Set Merit Proration to ON</td>\n",
       "      <td>NaN</td>\n",
       "    </tr>\n",
       "    <tr>\n",
       "      <th>17050</th>\n",
       "      <td>NaN</td>\n",
       "      <td>8.0</td>\n",
       "      <td>Set Merit Proration to ON</td>\n",
       "      <td>NaN</td>\n",
       "    </tr>\n",
       "    <tr>\n",
       "      <th>17156</th>\n",
       "      <td>NaN</td>\n",
       "      <td>8.0</td>\n",
       "      <td>Set Merit Proration to ON</td>\n",
       "      <td>NaN</td>\n",
       "    </tr>\n",
       "    <tr>\n",
       "      <th>17263</th>\n",
       "      <td>NaN</td>\n",
       "      <td>8.0</td>\n",
       "      <td>Set Merit Proration to ON</td>\n",
       "      <td>NaN</td>\n",
       "    </tr>\n",
       "    <tr>\n",
       "      <th>17371</th>\n",
       "      <td>NaN</td>\n",
       "      <td>8.0</td>\n",
       "      <td>Set Merit Proration to ON</td>\n",
       "      <td>NaN</td>\n",
       "    </tr>\n",
       "    <tr>\n",
       "      <th>17477</th>\n",
       "      <td>NaN</td>\n",
       "      <td>8.0</td>\n",
       "      <td>Set Merit Proration to ON</td>\n",
       "      <td>NaN</td>\n",
       "    </tr>\n",
       "    <tr>\n",
       "      <th>19082</th>\n",
       "      <td>NaN</td>\n",
       "      <td>8.0</td>\n",
       "      <td>Set Merit Proration to ON</td>\n",
       "      <td>NaN</td>\n",
       "    </tr>\n",
       "    <tr>\n",
       "      <th>19182</th>\n",
       "      <td>NaN</td>\n",
       "      <td>8.0</td>\n",
       "      <td>Set Merit Proration to ON</td>\n",
       "      <td>NaN</td>\n",
       "    </tr>\n",
       "    <tr>\n",
       "      <th>19281</th>\n",
       "      <td>NaN</td>\n",
       "      <td>8.0</td>\n",
       "      <td>Set Merit Proration to ON</td>\n",
       "      <td>NaN</td>\n",
       "    </tr>\n",
       "    <tr>\n",
       "      <th>19378</th>\n",
       "      <td>NaN</td>\n",
       "      <td>8.0</td>\n",
       "      <td>Set Merit Proration to ON</td>\n",
       "      <td>NaN</td>\n",
       "    </tr>\n",
       "    <tr>\n",
       "      <th>19476</th>\n",
       "      <td>NaN</td>\n",
       "      <td>8.0</td>\n",
       "      <td>Set Merit Proration to ON</td>\n",
       "      <td>NaN</td>\n",
       "    </tr>\n",
       "    <tr>\n",
       "      <th>19577</th>\n",
       "      <td>NaN</td>\n",
       "      <td>8.0</td>\n",
       "      <td>Set Merit Proration to ON</td>\n",
       "      <td>NaN</td>\n",
       "    </tr>\n",
       "    <tr>\n",
       "      <th>19677</th>\n",
       "      <td>NaN</td>\n",
       "      <td>8.0</td>\n",
       "      <td>Set Merit Proration to ON</td>\n",
       "      <td>NaN</td>\n",
       "    </tr>\n",
       "    <tr>\n",
       "      <th>19776</th>\n",
       "      <td>NaN</td>\n",
       "      <td>8.0</td>\n",
       "      <td>Set Merit Proration to ON</td>\n",
       "      <td>NaN</td>\n",
       "    </tr>\n",
       "    <tr>\n",
       "      <th>22035</th>\n",
       "      <td>NaN</td>\n",
       "      <td>8.0</td>\n",
       "      <td>Set Merit Proration to ON</td>\n",
       "      <td>NaN</td>\n",
       "    </tr>\n",
       "    <tr>\n",
       "      <th>22135</th>\n",
       "      <td>NaN</td>\n",
       "      <td>8.0</td>\n",
       "      <td>Set Merit Proration to ON</td>\n",
       "      <td>NaN</td>\n",
       "    </tr>\n",
       "    <tr>\n",
       "      <th>22234</th>\n",
       "      <td>NaN</td>\n",
       "      <td>8.0</td>\n",
       "      <td>Set Merit Proration to ON</td>\n",
       "      <td>NaN</td>\n",
       "    </tr>\n",
       "    <tr>\n",
       "      <th>22332</th>\n",
       "      <td>NaN</td>\n",
       "      <td>8.0</td>\n",
       "      <td>Set Merit Proration to ON</td>\n",
       "      <td>NaN</td>\n",
       "    </tr>\n",
       "    <tr>\n",
       "      <th>22430</th>\n",
       "      <td>NaN</td>\n",
       "      <td>8.0</td>\n",
       "      <td>Set Merit Proration to ON</td>\n",
       "      <td>NaN</td>\n",
       "    </tr>\n",
       "    <tr>\n",
       "      <th>22524</th>\n",
       "      <td>NaN</td>\n",
       "      <td>6.0</td>\n",
       "      <td>Set Merit Proration to ON</td>\n",
       "      <td>NaN</td>\n",
       "    </tr>\n",
       "    <tr>\n",
       "      <th>22628</th>\n",
       "      <td>NaN</td>\n",
       "      <td>8.0</td>\n",
       "      <td>Set Merit Proration to ON</td>\n",
       "      <td>NaN</td>\n",
       "    </tr>\n",
       "    <tr>\n",
       "      <th>22727</th>\n",
       "      <td>NaN</td>\n",
       "      <td>8.0</td>\n",
       "      <td>Set Merit Proration to ON</td>\n",
       "      <td>NaN</td>\n",
       "    </tr>\n",
       "    <tr>\n",
       "      <th>22825</th>\n",
       "      <td>NaN</td>\n",
       "      <td>8.0</td>\n",
       "      <td>Set Merit Proration to ON</td>\n",
       "      <td>NaN</td>\n",
       "    </tr>\n",
       "    <tr>\n",
       "      <th>22925</th>\n",
       "      <td>NaN</td>\n",
       "      <td>8.0</td>\n",
       "      <td>Set Merit Proration to ON</td>\n",
       "      <td>NaN</td>\n",
       "    </tr>\n",
       "    <tr>\n",
       "      <th>23024</th>\n",
       "      <td>NaN</td>\n",
       "      <td>8.0</td>\n",
       "      <td>Set Merit Proration to ON</td>\n",
       "      <td>NaN</td>\n",
       "    </tr>\n",
       "    <tr>\n",
       "      <th>23121</th>\n",
       "      <td>NaN</td>\n",
       "      <td>8.0</td>\n",
       "      <td>Set Merit Proration to ON</td>\n",
       "      <td>NaN</td>\n",
       "    </tr>\n",
       "    <tr>\n",
       "      <th>23218</th>\n",
       "      <td>NaN</td>\n",
       "      <td>8.0</td>\n",
       "      <td>Set Merit Proration to ON</td>\n",
       "      <td>NaN</td>\n",
       "    </tr>\n",
       "    <tr>\n",
       "      <th>23319</th>\n",
       "      <td>NaN</td>\n",
       "      <td>8.0</td>\n",
       "      <td>Set Merit Proration to ON</td>\n",
       "      <td>NaN</td>\n",
       "    </tr>\n",
       "    <tr>\n",
       "      <th>23419</th>\n",
       "      <td>NaN</td>\n",
       "      <td>8.0</td>\n",
       "      <td>Set Merit Proration to ON</td>\n",
       "      <td>NaN</td>\n",
       "    </tr>\n",
       "    <tr>\n",
       "      <th>23517</th>\n",
       "      <td>NaN</td>\n",
       "      <td>8.0</td>\n",
       "      <td>Set Merit Proration to ON</td>\n",
       "      <td>NaN</td>\n",
       "    </tr>\n",
       "  </tbody>\n",
       "</table>\n",
       "<p>78 rows × 4 columns</p>\n",
       "</div>"
      ],
      "text/plain": [
       "      Test Case ID  # Steps                     Action Expected value\n",
       "20             NaN      5.0  Set Merit Proration to ON            NaN\n",
       "132            NaN      6.0  Set Merit Proration to ON            NaN\n",
       "326            NaN      8.0  Set Merit Proration to ON            NaN\n",
       "419            NaN      6.0  Set Merit Proration to ON            NaN\n",
       "518            NaN      5.0  Set Merit Proration to ON            NaN\n",
       "623            NaN      6.0  Set Merit Proration to ON            NaN\n",
       "720            NaN      6.0  Set Merit Proration to ON            NaN\n",
       "821            NaN      6.0  Set Merit Proration to ON            NaN\n",
       "931            NaN      6.0  Set Merit Proration to ON            NaN\n",
       "1033           NaN      6.0  Set Merit Proration to ON            NaN\n",
       "1136           NaN      6.0  Set Merit Proration to ON            NaN\n",
       "1244           NaN      6.0  Set Merit Proration to ON            NaN\n",
       "1350           NaN      6.0  Set Merit Proration to ON            NaN\n",
       "1439           NaN      5.0  Set Merit Proration to ON            NaN\n",
       "1542           NaN      6.0  Set Merit Proration to ON            NaN\n",
       "1652           NaN      6.0  Set Merit Proration to ON            NaN\n",
       "1762           NaN      6.0  Set Merit Proration to ON            NaN\n",
       "1864           NaN      6.0  Set Merit Proration to ON            NaN\n",
       "1966           NaN      6.0  Set Merit Proration to ON            NaN\n",
       "2074           NaN      6.0  Set Merit Proration to ON            NaN\n",
       "2180           NaN      6.0  Set Merit Proration to ON            NaN\n",
       "2275           NaN      5.0  Set Merit Proration to ON            NaN\n",
       "5666           NaN      6.0  Set Merit Proration to ON            NaN\n",
       "5778           NaN      6.0  Set Merit Proration to ON            NaN\n",
       "5888           NaN      6.0  Set Merit Proration to ON            NaN\n",
       "5990           NaN      6.0  Set Merit Proration to ON            NaN\n",
       "6092           NaN      6.0  Set Merit Proration to ON            NaN\n",
       "6200           NaN      6.0  Set Merit Proration to ON            NaN\n",
       "6307           NaN      6.0  Set Merit Proration to ON            NaN\n",
       "6402           NaN      5.0  Set Merit Proration to ON            NaN\n",
       "...            ...      ...                        ...            ...\n",
       "16944          NaN      8.0  Set Merit Proration to ON            NaN\n",
       "17050          NaN      8.0  Set Merit Proration to ON            NaN\n",
       "17156          NaN      8.0  Set Merit Proration to ON            NaN\n",
       "17263          NaN      8.0  Set Merit Proration to ON            NaN\n",
       "17371          NaN      8.0  Set Merit Proration to ON            NaN\n",
       "17477          NaN      8.0  Set Merit Proration to ON            NaN\n",
       "19082          NaN      8.0  Set Merit Proration to ON            NaN\n",
       "19182          NaN      8.0  Set Merit Proration to ON            NaN\n",
       "19281          NaN      8.0  Set Merit Proration to ON            NaN\n",
       "19378          NaN      8.0  Set Merit Proration to ON            NaN\n",
       "19476          NaN      8.0  Set Merit Proration to ON            NaN\n",
       "19577          NaN      8.0  Set Merit Proration to ON            NaN\n",
       "19677          NaN      8.0  Set Merit Proration to ON            NaN\n",
       "19776          NaN      8.0  Set Merit Proration to ON            NaN\n",
       "22035          NaN      8.0  Set Merit Proration to ON            NaN\n",
       "22135          NaN      8.0  Set Merit Proration to ON            NaN\n",
       "22234          NaN      8.0  Set Merit Proration to ON            NaN\n",
       "22332          NaN      8.0  Set Merit Proration to ON            NaN\n",
       "22430          NaN      8.0  Set Merit Proration to ON            NaN\n",
       "22524          NaN      6.0  Set Merit Proration to ON            NaN\n",
       "22628          NaN      8.0  Set Merit Proration to ON            NaN\n",
       "22727          NaN      8.0  Set Merit Proration to ON            NaN\n",
       "22825          NaN      8.0  Set Merit Proration to ON            NaN\n",
       "22925          NaN      8.0  Set Merit Proration to ON            NaN\n",
       "23024          NaN      8.0  Set Merit Proration to ON            NaN\n",
       "23121          NaN      8.0  Set Merit Proration to ON            NaN\n",
       "23218          NaN      8.0  Set Merit Proration to ON            NaN\n",
       "23319          NaN      8.0  Set Merit Proration to ON            NaN\n",
       "23419          NaN      8.0  Set Merit Proration to ON            NaN\n",
       "23517          NaN      8.0  Set Merit Proration to ON            NaN\n",
       "\n",
       "[78 rows x 4 columns]"
      ]
     },
     "execution_count": 4,
     "metadata": {},
     "output_type": "execute_result"
    }
   ],
   "source": [
    "excel.loc[excel['Action'].apply(lambda x:('proration to on' in str(x).lower()))]"
   ]
  },
  {
   "cell_type": "code",
   "execution_count": 11,
   "metadata": {},
   "outputs": [],
   "source": [
    "import pandas as pd\n",
    "import numpy as np\n",
    "from openpyxl import load_workbook\n",
    "excel=pd.read_excel('MTM_Automation Test Cases1.xlsx')\n",
    "excel1=excel.loc[excel['Action'].apply(lambda x:('proration to on' in str(x).lower()))]\n",
    "path=r'MTM_Automation Test Cases1.xlsx'\n",
    "book = load_workbook(path)\n",
    "writer = pd.ExcelWriter(path, engine = 'openpyxl')\n",
    "writer.book = book\n",
    "excel1.to_excel(writer, sheet_name = 'Proration')\n",
    "writer.save()\n",
    "writer.close()"
   ]
  },
  {
   "cell_type": "code",
   "execution_count": 11,
   "metadata": {},
   "outputs": [
    {
     "name": "stdout",
     "output_type": "stream",
     "text": [
      "[1, 2]\n"
     ]
    }
   ],
   "source": [
    "n=3\n",
    "array=[0,1]\n",
    "newArray=[]\n",
    "value=1\n",
    "for i in array:\n",
    "    if i == 0:\n",
    "        newArray.append(value)\n",
    "    else:\n",
    "        value=1\n",
    "        for j in range(i):\n",
    "            if (j+1)%2==0:\n",
    "                value = value+1\n",
    "            else:\n",
    "                value = value*2\n",
    "        newArray.append(value)\n",
    "print(newArray)"
   ]
  },
  {
   "cell_type": "code",
   "execution_count": 18,
   "metadata": {},
   "outputs": [
    {
     "name": "stdout",
     "output_type": "stream",
     "text": [
      "No\n"
     ]
    }
   ],
   "source": [
    "K=3\n",
    "a=[-1,-3,4,2]\n",
    "count=0\n",
    "for i in a:\n",
    "    if i <= 0:\n",
    "        count+=1\n",
    "if count>=K:\n",
    "    print(\"NO\")\n",
    "else:\n",
    "    print(\"YES\")\n"
   ]
  },
  {
   "cell_type": "code",
   "execution_count": 28,
   "metadata": {},
   "outputs": [
    {
     "name": "stdout",
     "output_type": "stream",
     "text": [
      "2\n"
     ]
    }
   ],
   "source": [
    "a=[20,23,6]\n",
    "day=0\n",
    "for i in range(int(a[0]),int(a[1])+1):\n",
    "    string=str(i)\n",
    "    if ((i-int(string[::-1]))/a[2]).is_integer():\n",
    "        day += 1\n",
    "print(day)"
   ]
  },
  {
   "cell_type": "code",
   "execution_count": 34,
   "metadata": {},
   "outputs": [
    {
     "name": "stdout",
     "output_type": "stream",
     "text": [
      "24\n"
     ]
    }
   ],
   "source": [
    "days=5\n",
    "shared=5\n",
    "liked=0\n",
    "cumulative=0\n",
    "for i in range(1,days+1):\n",
    "    liked = int(shared/2)\n",
    "    shared = liked*3\n",
    "    cumulative +=liked\n",
    "print(cumulative)"
   ]
  },
  {
   "cell_type": "code",
   "execution_count": 47,
   "metadata": {},
   "outputs": [
    {
     "name": "stdout",
     "output_type": "stream",
     "text": [
      "3\n"
     ]
    }
   ],
   "source": [
    "#n,m,s=3,7,3\n",
    "n,m,s=3,394274638,3\n",
    "mod=0\n",
    "rem=0\n",
    "m=m+(s-1)\n",
    "mod=m%n\n",
    "rem=int(m/n)\n",
    "while rem>n:\n",
    "    rem = int(rem/n)\n",
    "if mod==0:\n",
    "    print(rem)\n",
    "else:\n",
    "    print(mod)"
   ]
  },
  {
   "cell_type": "code",
   "execution_count": 50,
   "metadata": {},
   "outputs": [
    {
     "name": "stdout",
     "output_type": "stream",
     "text": [
      "3\n"
     ]
    }
   ],
   "source": [
    "n,m,s=3,394274638,3\n",
    "if s + m < n:\n",
    "    print(s + m - 1)\n",
    "else:\n",
    "    if (s+m - 1) % n == 0:\n",
    "        print(n)\n",
    "    else:\n",
    "        print((s+m - 1) % n)"
   ]
  },
  {
   "cell_type": "code",
   "execution_count": 22,
   "metadata": {},
   "outputs": [
    {
     "name": "stdout",
     "output_type": "stream",
     "text": [
      "[5, 3]\n"
     ]
    }
   ],
   "source": [
    "a=[3,4,5]\n",
    "query=[1,2]\n",
    "result=[]\n",
    "copyArray=a.copy()\n",
    "k = 2\n",
    "for i in range(k):\n",
    "    for j in range(0,len(a)):\n",
    "        if(j==len(a)-1):\n",
    "            copyArray[0]=a[j]\n",
    "        else:\n",
    "            copyArray[j+1]=a[j]\n",
    "    a=copyArray.copy()\n",
    "for z in query:\n",
    "    result.append(a[z])\n",
    "print(result)"
   ]
  },
  {
   "cell_type": "code",
   "execution_count": 26,
   "metadata": {},
   "outputs": [
    {
     "name": "stdout",
     "output_type": "stream",
     "text": [
      "deque([3, 4, 5, 1, 2])\n"
     ]
    }
   ],
   "source": [
    "import collections\n",
    "\n",
    "d = collections.deque([1,2,3,4,5])\n",
    "d.rotate(3)\n",
    "print(d)"
   ]
  },
  {
   "cell_type": "code",
   "execution_count": 28,
   "metadata": {},
   "outputs": [
    {
     "name": "stdout",
     "output_type": "stream",
     "text": [
      "[2, 3, 1]\n"
     ]
    }
   ],
   "source": [
    "a=[1,2,3]\n",
    "print(a[-2:] + a[:-2])"
   ]
  },
  {
   "cell_type": "code",
   "execution_count": 32,
   "metadata": {},
   "outputs": [
    {
     "name": "stdout",
     "output_type": "stream",
     "text": [
      "33\n"
     ]
    }
   ],
   "source": [
    "b,w,bc,wc=3,6,9,1\n",
    "print((b*bc)+(w*wc))"
   ]
  },
  {
   "cell_type": "code",
   "execution_count": 9,
   "metadata": {},
   "outputs": [
    {
     "name": "stdout",
     "output_type": "stream",
     "text": [
      "[1, 2, 3]\n",
      "[]\n",
      "0\n"
     ]
    }
   ],
   "source": [
    "a=[1,2,3]\n",
    "print(a[-0:])\n",
    "print(a[:-0])\n",
    "print(6%3)"
   ]
  },
  {
   "cell_type": "code",
   "execution_count": 9,
   "metadata": {},
   "outputs": [
    {
     "name": "stdout",
     "output_type": "stream",
     "text": [
      "29\n"
     ]
    }
   ],
   "source": [
    "b,w,bc,wc,z=3,5,3,4,1\n",
    "if(b==w) and (bc==wc==z):\n",
    "    print((b*bc)+(w*wc))\n",
    "elif z>bc and z>wc:\n",
    "    print((b*bc)+(w*wc))\n",
    "elif(b==w) and bc>wc:\n",
    "    print((b*(wc+z))+(w*wc))\n",
    "elif (b==w) and bc<wc:\n",
    "    print((b*(bc))+(w*(bc+z)))\n",
    "elif bc<(b*w)+1 and b!=bc:\n",
    "    print(((b+w)*z)+(b*z))\n",
    "else:\n",
    "    print((b*bc)+(w*wc))"
   ]
  },
  {
   "cell_type": "code",
   "execution_count": null,
   "metadata": {},
   "outputs": [],
   "source": []
  }
 ],
 "metadata": {
  "kernelspec": {
   "display_name": "Python 3",
   "language": "python",
   "name": "python3"
  },
  "language_info": {
   "codemirror_mode": {
    "name": "ipython",
    "version": 3
   },
   "file_extension": ".py",
   "mimetype": "text/x-python",
   "name": "python",
   "nbconvert_exporter": "python",
   "pygments_lexer": "ipython3",
   "version": "3.6.5"
  }
 },
 "nbformat": 4,
 "nbformat_minor": 2
}
